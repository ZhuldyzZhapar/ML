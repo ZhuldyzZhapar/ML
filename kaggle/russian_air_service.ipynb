{
 "cells": [
  {
   "cell_type": "code",
   "execution_count": 1,
   "metadata": {},
   "outputs": [],
   "source": [
    "import pandas as pd  \n",
    "import numpy as np  \n",
    "import matplotlib.pyplot as plt  \n",
    "import seaborn as sns\n",
    "from sklearn.model_selection import train_test_split \n",
    "from sklearn.linear_model import LinearRegression\n",
    "\n",
    "%matplotlib inline"
   ]
  },
  {
   "cell_type": "code",
   "execution_count": 2,
   "metadata": {},
   "outputs": [],
   "source": [
    "df_passenger = pd.read_csv(\"russian_passenger_air_service_2.csv\")\n",
    "df_cargo = pd.read_csv(\"russian_air_service_CARGO_AND_PARCELS.csv\")"
   ]
  },
  {
   "cell_type": "code",
   "execution_count": 3,
   "metadata": {},
   "outputs": [
    {
     "data": {
      "text/plain": [
       "<matplotlib.axes._subplots.AxesSubplot at 0x2514c238fd0>"
      ]
     },
     "execution_count": 3,
     "metadata": {},
     "output_type": "execute_result"
    },
    {
     "data": {
      "image/png": "[encoded data removed]",
      "text/plain": [
       "<Figure size 432x288 with 1 Axes>"
      ]
     },
     "metadata": {
      "needs_background": "light"
     },
     "output_type": "display_data"
    }
   ],
   "source": [
    "sns.distplot(df_passenger['Year'])"
   ]
  },
  {
   "cell_type": "code",
   "execution_count": 4,
   "metadata": {},
   "outputs": [
    {
     "data": {
      "text/plain": [
       "<matplotlib.axes._subplots.AxesSubplot at 0x2514c30ea90>"
      ]
     },
     "execution_count": 4,
     "metadata": {},
     "output_type": "execute_result"
    },
    {
     "data": {
      "image/png": "[encoded data removed]",
      "text/plain": [
       "<Figure size 432x288 with 1 Axes>"
      ]
     },
     "metadata": {
      "needs_background": "light"
     },
     "output_type": "display_data"
    }
   ],
   "source": [
    "sns.distplot(df_cargo['Year'])"
   ]
  },
  {
   "cell_type": "code",
   "execution_count": 5,
   "metadata": {},
   "outputs": [
    {
     "data": {
      "text/plain": [
       "Index(['Airport name', 'Year', 'January', 'February', 'March', 'April', 'May',\n",
       "       'June', 'July', 'August', 'September', 'October', 'November',\n",
       "       'December', 'Whole year', 'Airport coordinates'],\n",
       "      dtype='object')"
      ]
     },
     "execution_count": 5,
     "metadata": {},
     "output_type": "execute_result"
    }
   ],
   "source": [
    "df_passenger.columns"
   ]
  },
  {
   "cell_type": "code",
   "execution_count": 6,
   "metadata": {},
   "outputs": [
    {
     "data": {
      "text/html": [
       "<div>\n",
       "<style scoped>\n",
       "    .dataframe tbody tr th:only-of-type {\n",
       "        vertical-align: middle;\n",
       "    }\n",
       "\n",
       "    .dataframe tbody tr th {\n",
       "        vertical-align: top;\n",
       "    }\n",
       "\n",
       "    .dataframe thead th {\n",
       "        text-align: right;\n",
       "    }\n",
       "</style>\n",
       "<table border=\"1\" class=\"dataframe\">\n",
       "  <thead>\n",
       "    <tr style=\"text-align: right;\">\n",
       "      <th></th>\n",
       "      <th>Airport name</th>\n",
       "      <th>Year</th>\n",
       "      <th>January</th>\n",
       "      <th>February</th>\n",
       "      <th>March</th>\n",
       "      <th>April</th>\n",
       "      <th>May</th>\n",
       "      <th>June</th>\n",
       "      <th>July</th>\n",
       "      <th>August</th>\n",
       "      <th>September</th>\n",
       "      <th>October</th>\n",
       "      <th>November</th>\n",
       "      <th>December</th>\n",
       "      <th>Whole year</th>\n",
       "      <th>Airport coordinates</th>\n",
       "    </tr>\n",
       "  </thead>\n",
       "  <tbody>\n",
       "    <tr>\n",
       "      <th>0</th>\n",
       "      <td>Abakan</td>\n",
       "      <td>2020</td>\n",
       "      <td>13495</td>\n",
       "      <td>14940</td>\n",
       "      <td>0</td>\n",
       "      <td>0</td>\n",
       "      <td>0</td>\n",
       "      <td>0</td>\n",
       "      <td>0</td>\n",
       "      <td>0</td>\n",
       "      <td>0</td>\n",
       "      <td>0</td>\n",
       "      <td>0</td>\n",
       "      <td>0.0</td>\n",
       "      <td>0</td>\n",
       "      <td>(Decimal('91.399735'), Decimal('53.751351'))</td>\n",
       "    </tr>\n",
       "    <tr>\n",
       "      <th>1</th>\n",
       "      <td>Aikhal</td>\n",
       "      <td>2020</td>\n",
       "      <td>0</td>\n",
       "      <td>0</td>\n",
       "      <td>0</td>\n",
       "      <td>0</td>\n",
       "      <td>0</td>\n",
       "      <td>0</td>\n",
       "      <td>0</td>\n",
       "      <td>0</td>\n",
       "      <td>0</td>\n",
       "      <td>0</td>\n",
       "      <td>0</td>\n",
       "      <td>0.0</td>\n",
       "      <td>0</td>\n",
       "      <td>(Decimal('111.543324'), Decimal('65.957161'))</td>\n",
       "    </tr>\n",
       "    <tr>\n",
       "      <th>2</th>\n",
       "      <td>Loss</td>\n",
       "      <td>2020</td>\n",
       "      <td>0</td>\n",
       "      <td>0</td>\n",
       "      <td>0</td>\n",
       "      <td>0</td>\n",
       "      <td>0</td>\n",
       "      <td>0</td>\n",
       "      <td>0</td>\n",
       "      <td>0</td>\n",
       "      <td>0</td>\n",
       "      <td>0</td>\n",
       "      <td>0</td>\n",
       "      <td>0.0</td>\n",
       "      <td>0</td>\n",
       "      <td>(Decimal('125.398355'), Decimal('58.602489'))</td>\n",
       "    </tr>\n",
       "    <tr>\n",
       "      <th>3</th>\n",
       "      <td>Amderma</td>\n",
       "      <td>2020</td>\n",
       "      <td>0</td>\n",
       "      <td>0</td>\n",
       "      <td>0</td>\n",
       "      <td>0</td>\n",
       "      <td>0</td>\n",
       "      <td>0</td>\n",
       "      <td>0</td>\n",
       "      <td>0</td>\n",
       "      <td>0</td>\n",
       "      <td>0</td>\n",
       "      <td>0</td>\n",
       "      <td>0.0</td>\n",
       "      <td>0</td>\n",
       "      <td>(Decimal('61.577429'), Decimal('69.759076'))</td>\n",
       "    </tr>\n",
       "    <tr>\n",
       "      <th>4</th>\n",
       "      <td>Anadyr (Carbon)</td>\n",
       "      <td>2020</td>\n",
       "      <td>4255</td>\n",
       "      <td>4565</td>\n",
       "      <td>0</td>\n",
       "      <td>0</td>\n",
       "      <td>0</td>\n",
       "      <td>0</td>\n",
       "      <td>0</td>\n",
       "      <td>0</td>\n",
       "      <td>0</td>\n",
       "      <td>0</td>\n",
       "      <td>0</td>\n",
       "      <td>0.0</td>\n",
       "      <td>0</td>\n",
       "      <td>(Decimal('177.738273'), Decimal('64.713433'))</td>\n",
       "    </tr>\n",
       "  </tbody>\n",
       "</table>\n",
       "</div>"
      ],
      "text/plain": [
       "      Airport name  Year  January  February  March  April  May  June  July  \\\n",
       "0           Abakan  2020    13495     14940      0      0    0     0     0   \n",
       "1           Aikhal  2020        0         0      0      0    0     0     0   \n",
       "2             Loss  2020        0         0      0      0    0     0     0   \n",
       "3          Amderma  2020        0         0      0      0    0     0     0   \n",
       "4  Anadyr (Carbon)  2020     4255      4565      0      0    0     0     0   \n",
       "\n",
       "   August  September  October  November  December  Whole year  \\\n",
       "0       0          0        0         0       0.0           0   \n",
       "1       0          0        0         0       0.0           0   \n",
       "2       0          0        0         0       0.0           0   \n",
       "3       0          0        0         0       0.0           0   \n",
       "4       0          0        0         0       0.0           0   \n",
       "\n",
       "                             Airport coordinates  \n",
       "0   (Decimal('91.399735'), Decimal('53.751351'))  \n",
       "1  (Decimal('111.543324'), Decimal('65.957161'))  \n",
       "2  (Decimal('125.398355'), Decimal('58.602489'))  \n",
       "3   (Decimal('61.577429'), Decimal('69.759076'))  \n",
       "4  (Decimal('177.738273'), Decimal('64.713433'))  "
      ]
     },
     "execution_count": 6,
     "metadata": {},
     "output_type": "execute_result"
    }
   ],
   "source": [
    "df_passenger.head()"
   ]
  },
  {
   "cell_type": "code",
   "execution_count": 7,
   "metadata": {},
   "outputs": [
    {
     "data": {
      "text/html": [
       "<div>\n",
       "<style scoped>\n",
       "    .dataframe tbody tr th:only-of-type {\n",
       "        vertical-align: middle;\n",
       "    }\n",
       "\n",
       "    .dataframe tbody tr th {\n",
       "        vertical-align: top;\n",
       "    }\n",
       "\n",
       "    .dataframe thead th {\n",
       "        text-align: right;\n",
       "    }\n",
       "</style>\n",
       "<table border=\"1\" class=\"dataframe\">\n",
       "  <thead>\n",
       "    <tr style=\"text-align: right;\">\n",
       "      <th></th>\n",
       "      <th>Year</th>\n",
       "      <th>January</th>\n",
       "      <th>February</th>\n",
       "      <th>March</th>\n",
       "      <th>April</th>\n",
       "      <th>May</th>\n",
       "      <th>June</th>\n",
       "      <th>July</th>\n",
       "      <th>August</th>\n",
       "      <th>September</th>\n",
       "      <th>October</th>\n",
       "      <th>November</th>\n",
       "      <th>December</th>\n",
       "      <th>Whole year</th>\n",
       "    </tr>\n",
       "  </thead>\n",
       "  <tbody>\n",
       "    <tr>\n",
       "      <th>count</th>\n",
       "      <td>3961.000000</td>\n",
       "      <td>3.961000e+03</td>\n",
       "      <td>3.961000e+03</td>\n",
       "      <td>3.961000e+03</td>\n",
       "      <td>3.961000e+03</td>\n",
       "      <td>3.961000e+03</td>\n",
       "      <td>3.961000e+03</td>\n",
       "      <td>3.961000e+03</td>\n",
       "      <td>3.961000e+03</td>\n",
       "      <td>3.961000e+03</td>\n",
       "      <td>3.961000e+03</td>\n",
       "      <td>3.961000e+03</td>\n",
       "      <td>3961.000000</td>\n",
       "      <td>3.961000e+03</td>\n",
       "    </tr>\n",
       "    <tr>\n",
       "      <th>mean</th>\n",
       "      <td>2013.324161</td>\n",
       "      <td>3.031445e+04</td>\n",
       "      <td>2.755062e+04</td>\n",
       "      <td>2.820968e+04</td>\n",
       "      <td>3.001708e+04</td>\n",
       "      <td>3.476017e+04</td>\n",
       "      <td>4.175026e+04</td>\n",
       "      <td>4.771815e+04</td>\n",
       "      <td>4.888993e+04</td>\n",
       "      <td>4.241617e+04</td>\n",
       "      <td>3.570571e+04</td>\n",
       "      <td>3.021245e+04</td>\n",
       "      <td>234.541005</td>\n",
       "      <td>4.204410e+05</td>\n",
       "    </tr>\n",
       "    <tr>\n",
       "      <th>std</th>\n",
       "      <td>3.969638</td>\n",
       "      <td>1.867992e+05</td>\n",
       "      <td>1.682710e+05</td>\n",
       "      <td>1.807836e+05</td>\n",
       "      <td>1.920722e+05</td>\n",
       "      <td>2.176587e+05</td>\n",
       "      <td>2.539412e+05</td>\n",
       "      <td>2.872099e+05</td>\n",
       "      <td>2.925108e+05</td>\n",
       "      <td>2.582981e+05</td>\n",
       "      <td>2.239536e+05</td>\n",
       "      <td>1.887233e+05</td>\n",
       "      <td>1547.251287</td>\n",
       "      <td>2.603713e+06</td>\n",
       "    </tr>\n",
       "    <tr>\n",
       "      <th>min</th>\n",
       "      <td>2007.000000</td>\n",
       "      <td>0.000000e+00</td>\n",
       "      <td>0.000000e+00</td>\n",
       "      <td>0.000000e+00</td>\n",
       "      <td>0.000000e+00</td>\n",
       "      <td>0.000000e+00</td>\n",
       "      <td>0.000000e+00</td>\n",
       "      <td>0.000000e+00</td>\n",
       "      <td>0.000000e+00</td>\n",
       "      <td>0.000000e+00</td>\n",
       "      <td>0.000000e+00</td>\n",
       "      <td>0.000000e+00</td>\n",
       "      <td>0.000000</td>\n",
       "      <td>0.000000e+00</td>\n",
       "    </tr>\n",
       "    <tr>\n",
       "      <th>25%</th>\n",
       "      <td>2010.000000</td>\n",
       "      <td>0.000000e+00</td>\n",
       "      <td>0.000000e+00</td>\n",
       "      <td>0.000000e+00</td>\n",
       "      <td>0.000000e+00</td>\n",
       "      <td>0.000000e+00</td>\n",
       "      <td>0.000000e+00</td>\n",
       "      <td>0.000000e+00</td>\n",
       "      <td>0.000000e+00</td>\n",
       "      <td>0.000000e+00</td>\n",
       "      <td>0.000000e+00</td>\n",
       "      <td>0.000000e+00</td>\n",
       "      <td>0.000000</td>\n",
       "      <td>0.000000e+00</td>\n",
       "    </tr>\n",
       "    <tr>\n",
       "      <th>50%</th>\n",
       "      <td>2013.000000</td>\n",
       "      <td>0.000000e+00</td>\n",
       "      <td>0.000000e+00</td>\n",
       "      <td>0.000000e+00</td>\n",
       "      <td>0.000000e+00</td>\n",
       "      <td>0.000000e+00</td>\n",
       "      <td>0.000000e+00</td>\n",
       "      <td>0.000000e+00</td>\n",
       "      <td>0.000000e+00</td>\n",
       "      <td>0.000000e+00</td>\n",
       "      <td>0.000000e+00</td>\n",
       "      <td>0.000000e+00</td>\n",
       "      <td>0.000000</td>\n",
       "      <td>0.000000e+00</td>\n",
       "    </tr>\n",
       "    <tr>\n",
       "      <th>75%</th>\n",
       "      <td>2017.000000</td>\n",
       "      <td>1.410000e+02</td>\n",
       "      <td>1.100000e+02</td>\n",
       "      <td>0.000000e+00</td>\n",
       "      <td>0.000000e+00</td>\n",
       "      <td>0.000000e+00</td>\n",
       "      <td>0.000000e+00</td>\n",
       "      <td>0.000000e+00</td>\n",
       "      <td>0.000000e+00</td>\n",
       "      <td>0.000000e+00</td>\n",
       "      <td>0.000000e+00</td>\n",
       "      <td>0.000000e+00</td>\n",
       "      <td>0.000000</td>\n",
       "      <td>0.000000e+00</td>\n",
       "    </tr>\n",
       "    <tr>\n",
       "      <th>max</th>\n",
       "      <td>2020.000000</td>\n",
       "      <td>3.553862e+06</td>\n",
       "      <td>3.270201e+06</td>\n",
       "      <td>3.791106e+06</td>\n",
       "      <td>3.931552e+06</td>\n",
       "      <td>4.064441e+06</td>\n",
       "      <td>4.561143e+06</td>\n",
       "      <td>5.157112e+06</td>\n",
       "      <td>5.216328e+06</td>\n",
       "      <td>4.587248e+06</td>\n",
       "      <td>4.255424e+06</td>\n",
       "      <td>3.705650e+06</td>\n",
       "      <td>32533.800000</td>\n",
       "      <td>4.943854e+07</td>\n",
       "    </tr>\n",
       "  </tbody>\n",
       "</table>\n",
       "</div>"
      ],
      "text/plain": [
       "              Year       January      February         March         April  \\\n",
       "count  3961.000000  3.961000e+03  3.961000e+03  3.961000e+03  3.961000e+03   \n",
       "mean   2013.324161  3.031445e+04  2.755062e+04  2.820968e+04  3.001708e+04   \n",
       "std       3.969638  1.867992e+05  1.682710e+05  1.807836e+05  1.920722e+05   \n",
       "min    2007.000000  0.000000e+00  0.000000e+00  0.000000e+00  0.000000e+00   \n",
       "25%    2010.000000  0.000000e+00  0.000000e+00  0.000000e+00  0.000000e+00   \n",
       "50%    2013.000000  0.000000e+00  0.000000e+00  0.000000e+00  0.000000e+00   \n",
       "75%    2017.000000  1.410000e+02  1.100000e+02  0.000000e+00  0.000000e+00   \n",
       "max    2020.000000  3.553862e+06  3.270201e+06  3.791106e+06  3.931552e+06   \n",
       "\n",
       "                May          June          July        August     September  \\\n",
       "count  3.961000e+03  3.961000e+03  3.961000e+03  3.961000e+03  3.961000e+03   \n",
       "mean   3.476017e+04  4.175026e+04  4.771815e+04  4.888993e+04  4.241617e+04   \n",
       "std    2.176587e+05  2.539412e+05  2.872099e+05  2.925108e+05  2.582981e+05   \n",
       "min    0.000000e+00  0.000000e+00  0.000000e+00  0.000000e+00  0.000000e+00   \n",
       "25%    0.000000e+00  0.000000e+00  0.000000e+00  0.000000e+00  0.000000e+00   \n",
       "50%    0.000000e+00  0.000000e+00  0.000000e+00  0.000000e+00  0.000000e+00   \n",
       "75%    0.000000e+00  0.000000e+00  0.000000e+00  0.000000e+00  0.000000e+00   \n",
       "max    4.064441e+06  4.561143e+06  5.157112e+06  5.216328e+06  4.587248e+06   \n",
       "\n",
       "            October      November      December    Whole year  \n",
       "count  3.961000e+03  3.961000e+03   3961.000000  3.961000e+03  \n",
       "mean   3.570571e+04  3.021245e+04    234.541005  4.204410e+05  \n",
       "std    2.239536e+05  1.887233e+05   1547.251287  2.603713e+06  \n",
       "min    0.000000e+00  0.000000e+00      0.000000  0.000000e+00  \n",
       "25%    0.000000e+00  0.000000e+00      0.000000  0.000000e+00  \n",
       "50%    0.000000e+00  0.000000e+00      0.000000  0.000000e+00  \n",
       "75%    0.000000e+00  0.000000e+00      0.000000  0.000000e+00  \n",
       "max    4.255424e+06  3.705650e+06  32533.800000  4.943854e+07  "
      ]
     },
     "execution_count": 7,
     "metadata": {},
     "output_type": "execute_result"
    }
   ],
   "source": [
    "df_passenger.describe()"
   ]
  },
  {
   "cell_type": "code",
   "execution_count": 41,
   "metadata": {},
   "outputs": [
    {
     "name": "stdout",
     "output_type": "stream",
     "text": [
      "<class 'pandas.core.frame.DataFrame'>\n",
      "RangeIndex: 3961 entries, 0 to 3960\n",
      "Data columns (total 16 columns):\n",
      " #   Column               Non-Null Count  Dtype  \n",
      "---  ------               --------------  -----  \n",
      " 0   Airport name         3961 non-null   object \n",
      " 1   Year                 3961 non-null   int64  \n",
      " 2   January              3961 non-null   int64  \n",
      " 3   February             3961 non-null   int64  \n",
      " 4   March                3961 non-null   int64  \n",
      " 5   April                3961 non-null   int64  \n",
      " 6   May                  3961 non-null   int64  \n",
      " 7   June                 3961 non-null   int64  \n",
      " 8   July                 3961 non-null   int64  \n",
      " 9   August               3961 non-null   int64  \n",
      " 10  September            3961 non-null   int64  \n",
      " 11  October              3961 non-null   int64  \n",
      " 12  November             3961 non-null   int64  \n",
      " 13  December             3961 non-null   float64\n",
      " 14  Whole year           3961 non-null   int64  \n",
      " 15  Airport coordinates  3961 non-null   object \n",
      "dtypes: float64(1), int64(13), object(2)\n",
      "memory usage: 495.2+ KB\n"
     ]
    }
   ],
   "source": [
    "df_passenger.info()"
   ]
  },
  {
   "cell_type": "code",
   "execution_count": 69,
   "metadata": {},
   "outputs": [
    {
     "data": {
      "text/plain": [
       "<matplotlib.axes._subplots.AxesSubplot at 0x2514d6d60d0>"
      ]
     },
     "execution_count": 69,
     "metadata": {},
     "output_type": "execute_result"
    },
    {
     "data": {
      "image/png": "[encoded data removed]",
      "text/plain": [
       "<Figure size 432x288 with 2 Axes>"
      ]
     },
     "metadata": {
      "needs_background": "light"
     },
     "output_type": "display_data"
    }
   ],
   "source": [
    "sns.heatmap(df_passenger.corr())"
   ]
  },
  {
   "cell_type": "code",
   "execution_count": 70,
   "metadata": {},
   "outputs": [
    {
     "data": {
      "text/plain": [
       "<seaborn.axisgrid.JointGrid at 0x2514e002d00>"
      ]
     },
     "execution_count": 70,
     "metadata": {},
     "output_type": "execute_result"
    },
    {
     "data": {
      "image/png": "[encoded data removed]",
      "text/plain": [
       "<Figure size 432x432 with 3 Axes>"
      ]
     },
     "metadata": {
      "needs_background": "light"
     },
     "output_type": "display_data"
    }
   ],
   "source": [
    "sns.jointplot(x='Year',y='Whole year',data=df_passenger,kind='scatter')"
   ]
  },
  {
   "cell_type": "code",
   "execution_count": 81,
   "metadata": {},
   "outputs": [
    {
     "data": {
      "text/html": [
       "<div>\n",
       "<style scoped>\n",
       "    .dataframe tbody tr th:only-of-type {\n",
       "        vertical-align: middle;\n",
       "    }\n",
       "\n",
       "    .dataframe tbody tr th {\n",
       "        vertical-align: top;\n",
       "    }\n",
       "\n",
       "    .dataframe thead th {\n",
       "        text-align: right;\n",
       "    }\n",
       "</style>\n",
       "<table border=\"1\" class=\"dataframe\">\n",
       "  <thead>\n",
       "    <tr style=\"text-align: right;\">\n",
       "      <th></th>\n",
       "      <th>Year</th>\n",
       "      <th>passengers</th>\n",
       "    </tr>\n",
       "  </thead>\n",
       "  <tbody>\n",
       "    <tr>\n",
       "      <th>0</th>\n",
       "      <td>2007</td>\n",
       "      <td>68.778345</td>\n",
       "    </tr>\n",
       "    <tr>\n",
       "      <th>1</th>\n",
       "      <td>2008</td>\n",
       "      <td>77.022917</td>\n",
       "    </tr>\n",
       "    <tr>\n",
       "      <th>2</th>\n",
       "      <td>2009</td>\n",
       "      <td>69.506140</td>\n",
       "    </tr>\n",
       "    <tr>\n",
       "      <th>3</th>\n",
       "      <td>2010</td>\n",
       "      <td>86.498338</td>\n",
       "    </tr>\n",
       "    <tr>\n",
       "      <th>4</th>\n",
       "      <td>2011</td>\n",
       "      <td>97.302277</td>\n",
       "    </tr>\n",
       "    <tr>\n",
       "      <th>5</th>\n",
       "      <td>2012</td>\n",
       "      <td>110.139333</td>\n",
       "    </tr>\n",
       "    <tr>\n",
       "      <th>6</th>\n",
       "      <td>2013</td>\n",
       "      <td>124.065356</td>\n",
       "    </tr>\n",
       "    <tr>\n",
       "      <th>7</th>\n",
       "      <td>2014</td>\n",
       "      <td>135.651885</td>\n",
       "    </tr>\n",
       "    <tr>\n",
       "      <th>8</th>\n",
       "      <td>2015</td>\n",
       "      <td>135.182543</td>\n",
       "    </tr>\n",
       "    <tr>\n",
       "      <th>9</th>\n",
       "      <td>2016</td>\n",
       "      <td>133.185142</td>\n",
       "    </tr>\n",
       "    <tr>\n",
       "      <th>10</th>\n",
       "      <td>2017</td>\n",
       "      <td>154.493047</td>\n",
       "    </tr>\n",
       "    <tr>\n",
       "      <th>11</th>\n",
       "      <td>2018</td>\n",
       "      <td>171.676849</td>\n",
       "    </tr>\n",
       "    <tr>\n",
       "      <th>12</th>\n",
       "      <td>2019</td>\n",
       "      <td>184.972472</td>\n",
       "    </tr>\n",
       "    <tr>\n",
       "      <th>13</th>\n",
       "      <td>2020</td>\n",
       "      <td>27.128912</td>\n",
       "    </tr>\n",
       "  </tbody>\n",
       "</table>\n",
       "</div>"
      ],
      "text/plain": [
       "    Year  passengers\n",
       "0   2007   68.778345\n",
       "1   2008   77.022917\n",
       "2   2009   69.506140\n",
       "3   2010   86.498338\n",
       "4   2011   97.302277\n",
       "5   2012  110.139333\n",
       "6   2013  124.065356\n",
       "7   2014  135.651885\n",
       "8   2015  135.182543\n",
       "9   2016  133.185142\n",
       "10  2017  154.493047\n",
       "11  2018  171.676849\n",
       "12  2019  184.972472\n",
       "13  2020   27.128912"
      ]
     },
     "execution_count": 81,
     "metadata": {},
     "output_type": "execute_result"
    }
   ],
   "source": [
    "b = ['January', 'February', 'March', 'April', 'May', 'June', 'July', 'August', 'September', 'October', 'November', 'December' ]\n",
    "\n",
    "long = df_passenger.melt(id_vars = ['Airport name', 'Year'],\n",
    "         value_vars = b)\n",
    "\n",
    "long.rename(columns = {'variable':'month', 'value':'passengers'}, inplace = True)\n",
    "long['month'] = pd.Categorical(long['month'], categories=b, ordered=True)\n",
    "\n",
    "per_year = long.groupby('Year')['passengers'].sum()/1000000\n",
    "per_year = per_year.reset_index()\n",
    "per_year"
   ]
  },
  {
   "cell_type": "code",
   "execution_count": 72,
   "metadata": {},
   "outputs": [
    {
     "data": {
      "image/png": "[encoded data removed]",
      "text/plain": [
       "<Figure size 432x288 with 1 Axes>"
      ]
     },
     "metadata": {
      "needs_background": "light"
     },
     "output_type": "display_data"
    }
   ],
   "source": [
    "per_year.plot(x='Year', y='passengers', style='o')  \n",
    "plt.title('Year vs passengers_sum')  \n",
    "plt.xlabel('Year')  \n",
    "plt.ylabel('passengers_sum')  \n",
    "plt.show()"
   ]
  },
  {
   "cell_type": "code",
   "execution_count": 39,
   "metadata": {},
   "outputs": [],
   "source": [
    "per_year = per_year[per_year['Year'] != 2020]"
   ]
  },
  {
   "cell_type": "code",
   "execution_count": 40,
   "metadata": {},
   "outputs": [
    {
     "data": {
      "image/png": "[encoded data removed]",
      "text/plain": [
       "<Figure size 432x288 with 1 Axes>"
      ]
     },
     "metadata": {
      "needs_background": "light"
     },
     "output_type": "display_data"
    }
   ],
   "source": [
    "per_year.plot(x='Year', y='passengers', style='o')  \n",
    "plt.title('Year vs passengers_sum')  \n",
    "plt.xlabel('Year')  \n",
    "plt.ylabel('passengers_sum')  \n",
    "plt.show()"
   ]
  },
  {
   "cell_type": "code",
   "execution_count": 73,
   "metadata": {},
   "outputs": [
    {
     "data": {
      "text/html": [
       "<div>\n",
       "<style scoped>\n",
       "    .dataframe tbody tr th:only-of-type {\n",
       "        vertical-align: middle;\n",
       "    }\n",
       "\n",
       "    .dataframe tbody tr th {\n",
       "        vertical-align: top;\n",
       "    }\n",
       "\n",
       "    .dataframe thead th {\n",
       "        text-align: right;\n",
       "    }\n",
       "</style>\n",
       "<table border=\"1\" class=\"dataframe\">\n",
       "  <thead>\n",
       "    <tr style=\"text-align: right;\">\n",
       "      <th></th>\n",
       "      <th>Year</th>\n",
       "      <th>passengers</th>\n",
       "    </tr>\n",
       "  </thead>\n",
       "  <tbody>\n",
       "    <tr>\n",
       "      <th>count</th>\n",
       "      <td>14.0000</td>\n",
       "      <td>14.000000</td>\n",
       "    </tr>\n",
       "    <tr>\n",
       "      <th>mean</th>\n",
       "      <td>2013.5000</td>\n",
       "      <td>112.543111</td>\n",
       "    </tr>\n",
       "    <tr>\n",
       "      <th>std</th>\n",
       "      <td>4.1833</td>\n",
       "      <td>44.158125</td>\n",
       "    </tr>\n",
       "    <tr>\n",
       "      <th>min</th>\n",
       "      <td>2007.0000</td>\n",
       "      <td>27.128912</td>\n",
       "    </tr>\n",
       "    <tr>\n",
       "      <th>25%</th>\n",
       "      <td>2010.2500</td>\n",
       "      <td>79.391772</td>\n",
       "    </tr>\n",
       "    <tr>\n",
       "      <th>50%</th>\n",
       "      <td>2013.5000</td>\n",
       "      <td>117.102345</td>\n",
       "    </tr>\n",
       "    <tr>\n",
       "      <th>75%</th>\n",
       "      <td>2016.7500</td>\n",
       "      <td>135.534550</td>\n",
       "    </tr>\n",
       "    <tr>\n",
       "      <th>max</th>\n",
       "      <td>2020.0000</td>\n",
       "      <td>184.972472</td>\n",
       "    </tr>\n",
       "  </tbody>\n",
       "</table>\n",
       "</div>"
      ],
      "text/plain": [
       "            Year  passengers\n",
       "count    14.0000   14.000000\n",
       "mean   2013.5000  112.543111\n",
       "std       4.1833   44.158125\n",
       "min    2007.0000   27.128912\n",
       "25%    2010.2500   79.391772\n",
       "50%    2013.5000  117.102345\n",
       "75%    2016.7500  135.534550\n",
       "max    2020.0000  184.972472"
      ]
     },
     "execution_count": 73,
     "metadata": {},
     "output_type": "execute_result"
    }
   ],
   "source": [
    "per_year.describe()"
   ]
  },
  {
   "cell_type": "code",
   "execution_count": 76,
   "metadata": {},
   "outputs": [
    {
     "name": "stdout",
     "output_type": "stream",
     "text": [
      "coeffs:  [[3.46507193]]\n",
      "intercept:  [-6867.49544087]\n"
     ]
    }
   ],
   "source": [
    "X = np.array(per_year['Year']).reshape(-1, 1)\n",
    "y = np.array(per_year['passengers']).reshape(-1, 1)\n",
    "X_train, X_test, y_train, y_test = train_test_split(X, y, test_size=0.2, random_state=42)\n",
    "regressor = LinearRegression().fit(X_train, y_train)\n",
    "print(\"coeffs: \", regressor.coef_)\n",
    "print(\"intercept: \", regressor.intercept_)"
   ]
  },
  {
   "cell_type": "code",
   "execution_count": 77,
   "metadata": {},
   "outputs": [],
   "source": [
    "#coef = pd.DataFrame(regressor.coef_, X.reshape(1,13), columns = ['Coeff'])"
   ]
  },
  {
   "cell_type": "code",
   "execution_count": 78,
   "metadata": {},
   "outputs": [
    {
     "data": {
      "image/png": "[encoded data removed]",
      "text/plain": [
       "<Figure size 1152x576 with 1 Axes>"
      ]
     },
     "metadata": {
      "needs_background": "light"
     },
     "output_type": "display_data"
    }
   ],
   "source": [
    "predictions = regressor.predict(X_test)\n",
    "plt.figure(figsize=(16, 8))\n",
    "plt.scatter(\n",
    "    per_year['Year'],\n",
    "    per_year['passengers'],\n",
    "    c='black'\n",
    ")\n",
    "plt.plot(\n",
    "    X_test,\n",
    "    predictions,\n",
    "    c='blue',\n",
    "    linewidth=2\n",
    ")\n",
    "plt.xlabel(\"Year)\")\n",
    "plt.ylabel(\"passengers\")\n",
    "plt.show()"
   ]
  },
  {
   "cell_type": "code",
   "execution_count": 79,
   "metadata": {},
   "outputs": [
    {
     "name": "stdout",
     "output_type": "stream",
     "text": [
      "Accuracy for Linear Regression:  0.4943932657561435\n"
     ]
    }
   ],
   "source": [
    "print(\"Accuracy for Linear Regression: \", regressor.score(X_test, y_test))"
   ]
  },
  {
   "cell_type": "code",
   "execution_count": null,
   "metadata": {},
   "outputs": [],
   "source": []
  }
 ],
 "metadata": {
  "kernelspec": {
   "display_name": "Python 3",
   "language": "python",
   "name": "python3"
  },
  "language_info": {
   "codemirror_mode": {
    "name": "ipython",
    "version": 3
   },
   "file_extension": ".py",
   "mimetype": "text/x-python",
   "name": "python",
   "nbconvert_exporter": "python",
   "pygments_lexer": "ipython3",
   "version": "3.8.3"
  }
 },
 "nbformat": 4,
 "nbformat_minor": 4
}
